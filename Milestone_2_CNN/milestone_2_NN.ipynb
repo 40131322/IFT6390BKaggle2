{
 "cells": [
  {
   "cell_type": "code",
   "execution_count": 2,
   "id": "6555a0db-0c97-41a3-bfc4-abd30beeaefd",
   "metadata": {},
   "outputs": [],
   "source": [
    "import numpy as np\n",
    "import pickle\n",
    "import matplotlib.pyplot as plt\n",
    "import seaborn as sns\n",
    "from pathlib import Path"
   ]
  },
  {
   "cell_type": "code",
   "execution_count": 3,
   "id": "ee692d1d-a93c-40ee-b41f-b997173892c2",
   "metadata": {},
   "outputs": [],
   "source": [
    "import numpy as np\n",
    "import tensorflow as tf\n",
    "from tensorflow.keras.models import Sequential\n",
    "from tensorflow.keras.layers import Conv2D, MaxPooling2D, Flatten, Dense, Dropout\n",
    "from tensorflow.keras.preprocessing.image import ImageDataGenerator\n",
    "from sklearn.utils.class_weight import compute_class_weight\n",
    "from sklearn.metrics import classification_report, confusion_matrix\n",
    "\n"
   ]
  },
  {
   "cell_type": "code",
   "execution_count": 4,
   "id": "33a517b9-8659-4cd9-a059-c4f60054c0aa",
   "metadata": {},
   "outputs": [],
   "source": [
    "# Use pathlib to define file paths\n",
    "base_dir = Path(\"d:/GitHub/IFT6390BKaggle2\")  # Set your project base directory\n",
    "train_file_path = base_dir / \"Data\" / \"train_data.pkl\"\n",
    "test_file_path = base_dir / \"Data\" / \"test_data.pkl\""
   ]
  },
  {
   "cell_type": "code",
   "execution_count": 5,
   "id": "a3eeac69-b6e0-4dba-b8c8-80f038a9ff2a",
   "metadata": {},
   "outputs": [],
   "source": [
    "# Load the pickle file\n",
    "with open(train_file_path, 'rb') as f:\n",
    "    train_data = pickle.load(f)\n",
    "\n",
    "\n",
    "X_data = np.array(train_data['images'])  # Convert to NumPy array\n",
    "y_data = np.array(train_data['labels'])  # Convert to NumPy array\n",
    "\n",
    "with open(test_file_path, 'rb') as g:\n",
    "    test_data = pickle.load(g)\n",
    "\n",
    "# Access images and labels\n",
    "X_test_data = np.array(test_data['images'])  # Convert to NumPy array\n"
   ]
  },
  {
   "cell_type": "code",
   "execution_count": 6,
   "id": "7996108e-b2ee-4f8f-9347-beba073b152d",
   "metadata": {},
   "outputs": [
    {
     "name": "stdout",
     "output_type": "stream",
     "text": [
      "Shape of images: (97477, 28, 28)\n",
      "Number of labels: 97477\n",
      "Unique labels: [0 1 2 3]\n",
      "(1000, 28, 28)\n"
     ]
    }
   ],
   "source": [
    "# Print basic information\n",
    "print(\"Shape of images:\", X_data.shape)  # Expected: (N, 28, 28)\n",
    "print(\"Number of labels:\", len(y_data))  # Expected: N\n",
    "print(\"Unique labels:\", np.unique(y_data))\n",
    "\n",
    "print(X_test_data.shape)\n"
   ]
  },
  {
   "cell_type": "code",
   "execution_count": 7,
   "id": "b0125954-c212-434b-b30b-55a2142d0e46",
   "metadata": {},
   "outputs": [
    {
     "data": {
      "image/png": "[encoded data removed]",
      "text/plain": [
       "<Figure size 800x600 with 1 Axes>"
      ]
     },
     "metadata": {},
     "output_type": "display_data"
    }
   ],
   "source": [
    "def plot_class_distribution(labels):\n",
    "    \"\"\"\n",
    "    Plot the distribution of labels.\n",
    "    \"\"\"\n",
    "    plt.figure(figsize=(8, 6))\n",
    "    sns.countplot(x=labels)\n",
    "    plt.title(\"Class Distribution\")\n",
    "    plt.xlabel(\"Labels\")\n",
    "    plt.ylabel(\"Frequency\")\n",
    "    plt.show()\n",
    "\n",
    "# Plot class distribution\n",
    "plot_class_distribution(y_data)"
   ]
  },
  {
   "cell_type": "code",
   "execution_count": 8,
   "id": "d26c8d66-530f-4082-9e35-904af6033c02",
   "metadata": {},
   "outputs": [],
   "source": [
    "def unflatten_images(flattened_images, original_shape):\n",
    "    \"\"\"\n",
    "    Reshape flattened images back to their original shape.\n",
    "\n",
    "    Parameters:\n",
    "        flattened_images (ndarray): Flattened image data (num_samples x num_features).\n",
    "        original_shape (tuple): Original image shape (e.g., height, width, channels).\n",
    "\n",
    "    Returns:\n",
    "        ndarray: Reshaped images (num_samples x original_shape).\n",
    "    \"\"\"\n",
    "    return flattened_images.reshape((-1, *original_shape))"
   ]
  },
  {
   "cell_type": "code",
   "execution_count": 9,
   "id": "73ec4b77-8547-48d4-919e-e49ed1696a56",
   "metadata": {},
   "outputs": [],
   "source": [
    "def undersample_data(X, y):\n",
    "    # Identify unique classes and their counts\n",
    "    unique_classes, class_counts = np.unique(y, return_counts=True)\n",
    "    print(f\"Class counts before undersampling: {dict(zip(unique_classes, class_counts))}\")\n",
    "    \n",
    "    # Find the smallest class size\n",
    "    min_class_size = np.min(class_counts)\n",
    "    \n",
    "    # Initialize lists to store undersampled data\n",
    "    X_undersampled = []\n",
    "    y_undersampled = []\n",
    "    \n",
    "    # Iterate through each class and undersample\n",
    "    for cls in unique_classes:\n",
    "        # Get indices of the current class\n",
    "        class_indices = np.where(y == cls)[0]\n",
    "        \n",
    "        # Randomly select samples equal to the minimum class size\n",
    "        undersampled_indices = np.random.choice(class_indices, size=min_class_size, replace=False)\n",
    "        \n",
    "        # Append the undersampled data\n",
    "        X_undersampled.append(X[undersampled_indices])\n",
    "        y_undersampled.append(y[undersampled_indices])\n",
    "    \n",
    "    # Combine all undersampled data\n",
    "    X_undersampled = np.vstack(X_undersampled)\n",
    "    y_undersampled = np.concatenate(y_undersampled)\n",
    "    \n",
    "    # Shuffle the undersampled data\n",
    "    shuffled_indices = np.random.permutation(len(y_undersampled))\n",
    "    X_undersampled = X_undersampled[shuffled_indices]\n",
    "    y_undersampled = y_undersampled[shuffled_indices]\n",
    "    \n",
    "    print(f\"Class counts after undersampling: {np.unique(y_undersampled, return_counts=True)}\")\n",
    "    \n",
    "    return X_undersampled, y_undersampled\n"
   ]
  },
  {
   "cell_type": "code",
   "execution_count": 10,
   "id": "ebf3ef67-1412-4b58-b54a-c84c2712d4fd",
   "metadata": {},
   "outputs": [],
   "source": [
    "def flatten_images(X_train):\n",
    "\n",
    "    # Get the number of samples in each dataset\n",
    "    N_train = X_train.shape[0]\n",
    "    \n",
    "    # Flatten the images while preserving the batch dimension\n",
    "    X_train_flat = X_train.reshape(N_train, -1)\n",
    "\n",
    "    \n",
    "    return X_train_flat\n"
   ]
  },
  {
   "cell_type": "code",
   "execution_count": 11,
   "id": "e00ceebb-5398-4692-a976-374db8b4234d",
   "metadata": {},
   "outputs": [],
   "source": [
    "def train_val_split(X, y, val_ratio=0.2, random_seed=None):\n",
    "\n",
    "    if random_seed is not None:\n",
    "        np.random.seed(random_seed)\n",
    "    \n",
    "    data_size = X.shape[0]\n",
    "\n",
    "    # Generate a permutation of indices\n",
    "    indices = np.random.permutation(data_size)\n",
    "\n",
    "    # Compute the split point\n",
    "    split_point = int((1 - val_ratio) * data_size)\n",
    "\n",
    "    # Split indices for training and validation\n",
    "    train_indices = indices[:split_point]\n",
    "    val_indices = indices[split_point:]\n",
    "\n",
    "    # Use indices to split the data\n",
    "    X_train = X[train_indices]\n",
    "    y_train = y[train_indices]\n",
    "    X_val = X[val_indices]\n",
    "    y_val = y[val_indices]\n",
    "\n",
    "    return X_train, y_train, X_val, y_val"
   ]
  },
  {
   "cell_type": "code",
   "execution_count": 15,
   "id": "13eaed4b-3288-46d3-ac27-3fb537d2d1f2",
   "metadata": {},
   "outputs": [
    {
     "name": "stdout",
     "output_type": "stream",
     "text": [
      "Class counts before undersampling: {0: 26847, 1: 8148, 2: 6207, 3: 36779}\n",
      "Class counts after undersampling: (array([0, 1, 2, 3]), array([6207, 6207, 6207, 6207], dtype=int64))\n"
     ]
    }
   ],
   "source": [
    "X_train_split, y_train_split, X_val_split, y_val_split =   train_val_split(flatten_images(X_data), y_data, val_ratio=0.2, random_seed=42)\n",
    "X_train_undersampled, y_train_undersampled = undersample_data(X_train_split, y_train_split)"
   ]
  },
  {
   "cell_type": "code",
   "execution_count": 17,
   "id": "d2fdfce9-0761-4762-ba49-dae094fa8b2d",
   "metadata": {},
   "outputs": [],
   "source": [
    "X_test_flatten = flatten_images(X_test_data)"
   ]
  },
  {
   "cell_type": "code",
   "execution_count": 21,
   "id": "ad8c920a-2e24-4462-b59b-3c2d0c07d9b0",
   "metadata": {},
   "outputs": [
    {
     "name": "stdout",
     "output_type": "stream",
     "text": [
      "Class distribution in training set: {0: 6207, 1: 6207, 2: 6207, 3: 6207}\n",
      "Class weights: {0: 1.0, 1: 1.0, 2: 1.0, 3: 1.0}\n"
     ]
    }
   ],
   "source": [
    "# Analyze class distribution\n",
    "unique, counts = np.unique(y_train_undersampled, return_counts=True)\n",
    "print(\"Class distribution in training set:\", dict(zip(unique, counts)))\n",
    "\n",
    "# Compute class weights\n",
    "class_weights = compute_class_weight(class_weight='balanced', classes=np.unique(y_train_undersampled), y=y_train_undersampled)\n",
    "class_weights = {i: weight for i, weight in enumerate(class_weights)}\n",
    "print(\"Class weights:\", class_weights)"
   ]
  },
  {
   "cell_type": "code",
   "execution_count": 22,
   "id": "7b9de2f8-49a3-4c00-8795-4fc349320c7c",
   "metadata": {},
   "outputs": [],
   "source": [
    "# Assuming the original shape of each image is (28, 28)\n",
    "original_shape = (28, 28)\n",
    "\n",
    "X_train, y_train = unflatten_images(X_train_undersampled,original_shape), y_train_undersampled\n",
    "\n",
    "X_val ,y_val = unflatten_images(X_val_split,original_shape),y_val_split"
   ]
  },
  {
   "cell_type": "code",
   "execution_count": 23,
   "id": "bf616801-a7b0-4516-9808-b4672414860b",
   "metadata": {},
   "outputs": [
    {
     "name": "stdout",
     "output_type": "stream",
     "text": [
      "(24828, 28, 28) (19496, 28, 28)\n"
     ]
    }
   ],
   "source": [
    "print(X_train.shape,X_val.shape)"
   ]
  },
  {
   "cell_type": "code",
   "execution_count": 24,
   "id": "50dedb61-0f8b-4437-a383-acbdb125302e",
   "metadata": {},
   "outputs": [
    {
     "data": {
      "text/plain": [
       "array([[[0.        , 0.09019608, 0.09019608, ..., 0.        ,\n",
       "         0.        , 0.        ],\n",
       "        [0.        , 0.05882353, 0.0627451 , ..., 0.09411765,\n",
       "         0.09019608, 0.08627451],\n",
       "        [0.        , 0.06666667, 0.07058824, ..., 0.09411765,\n",
       "         0.09411765, 0.09411765],\n",
       "        ...,\n",
       "        [0.03137255, 0.03137255, 0.03137255, ..., 0.03921569,\n",
       "         0.03921569, 0.        ],\n",
       "        [0.03137255, 0.03137255, 0.03137255, ..., 0.03529412,\n",
       "         0.03529412, 0.        ],\n",
       "        [0.        , 0.        , 0.        , ..., 0.03137255,\n",
       "         0.03137255, 0.        ]],\n",
       "\n",
       "       [[0.        , 0.        , 0.        , ..., 0.09019608,\n",
       "         0.09411765, 0.        ],\n",
       "        [0.07058824, 0.07058824, 0.07058824, ..., 0.08627451,\n",
       "         0.09019608, 0.        ],\n",
       "        [0.07058824, 0.07058824, 0.07058824, ..., 0.08235294,\n",
       "         0.08235294, 0.        ],\n",
       "        ...,\n",
       "        [0.        , 0.03529412, 0.03529412, ..., 0.03921569,\n",
       "         0.03921569, 0.03921569],\n",
       "        [0.        , 0.03529412, 0.03529412, ..., 0.03529412,\n",
       "         0.03529412, 0.03529412],\n",
       "        [0.        , 0.03529412, 0.03529412, ..., 0.        ,\n",
       "         0.        , 0.        ]],\n",
       "\n",
       "       [[0.        , 0.        , 0.        , ..., 0.58431375,\n",
       "         0.65882355, 0.        ],\n",
       "        [0.11764706, 0.11372549, 0.09803922, ..., 0.11764706,\n",
       "         0.12941177, 0.        ],\n",
       "        [0.11372549, 0.11372549, 0.11764706, ..., 0.10980392,\n",
       "         0.08235294, 0.        ],\n",
       "        ...,\n",
       "        [0.        , 0.01568628, 0.03921569, ..., 0.05098039,\n",
       "         0.05098039, 0.05098039],\n",
       "        [0.        , 0.09019608, 0.08627451, ..., 0.04705882,\n",
       "         0.04705882, 0.04705882],\n",
       "        [0.        , 0.29803923, 0.26666668, ..., 0.        ,\n",
       "         0.        , 0.        ]],\n",
       "\n",
       "       ...,\n",
       "\n",
       "       [[0.        , 0.        , 0.        , ..., 0.07450981,\n",
       "         0.07058824, 0.        ],\n",
       "        [0.07058824, 0.07058824, 0.07058824, ..., 0.07843138,\n",
       "         0.07058824, 0.        ],\n",
       "        [0.0627451 , 0.0627451 , 0.0627451 , ..., 0.08235294,\n",
       "         0.07450981, 0.        ],\n",
       "        ...,\n",
       "        [0.        , 0.03921569, 0.03921569, ..., 0.04313726,\n",
       "         0.03921569, 0.03529412],\n",
       "        [0.        , 0.03529412, 0.03921569, ..., 0.03137255,\n",
       "         0.02745098, 0.02352941],\n",
       "        [0.        , 0.02745098, 0.03137255, ..., 0.        ,\n",
       "         0.        , 0.        ]],\n",
       "\n",
       "       [[0.        , 0.        , 0.14117648, ..., 0.        ,\n",
       "         0.        , 0.        ],\n",
       "        [0.        , 0.        , 0.10588235, ..., 0.        ,\n",
       "         0.        , 0.        ],\n",
       "        [0.        , 0.        , 0.10196079, ..., 0.10588235,\n",
       "         0.09803922, 0.09803922],\n",
       "        ...,\n",
       "        [0.06666667, 0.08235294, 0.14509805, ..., 0.05490196,\n",
       "         0.        , 0.        ],\n",
       "        [0.        , 0.        , 0.        , ..., 0.04313726,\n",
       "         0.        , 0.        ],\n",
       "        [0.        , 0.        , 0.        , ..., 0.05098039,\n",
       "         0.        , 0.        ]],\n",
       "\n",
       "       [[0.        , 0.        , 0.        , ..., 1.        ,\n",
       "         0.        , 0.        ],\n",
       "        [0.        , 0.        , 0.        , ..., 0.78431374,\n",
       "         0.        , 0.        ],\n",
       "        [1.        , 0.99607843, 0.99215686, ..., 0.15686275,\n",
       "         0.        , 0.        ],\n",
       "        ...,\n",
       "        [0.        , 0.        , 0.08235294, ..., 0.03137255,\n",
       "         0.03529412, 0.03529412],\n",
       "        [0.        , 0.        , 0.04705882, ..., 0.        ,\n",
       "         0.        , 0.        ],\n",
       "        [0.        , 0.        , 0.04313726, ..., 0.        ,\n",
       "         0.        , 0.        ]]], dtype=float32)"
      ]
     },
     "execution_count": 24,
     "metadata": {},
     "output_type": "execute_result"
    }
   ],
   "source": [
    "X_train"
   ]
  },
  {
   "cell_type": "markdown",
   "id": "c566003e-22e9-497c-b0e9-5b9a8cfc6493",
   "metadata": {},
   "source": [
    "# Convolutional Neural Network"
   ]
  },
  {
   "cell_type": "code",
   "execution_count": 25,
   "id": "2a460eca-8cd8-4414-be0b-19b7ff74b4ab",
   "metadata": {},
   "outputs": [
    {
     "name": "stdout",
     "output_type": "stream",
     "text": [
      "x_train shape: (24828, 28, 28, 1)\n",
      "x_val shape: (19496, 28, 28, 1)\n"
     ]
    }
   ],
   "source": [
    "# Reshape the data to include the channel dimension\n",
    "X_train = X_train.reshape(-1, 28, 28, 1)\n",
    "X_val = X_val.reshape(-1, 28, 28, 1)\n",
    "\n",
    "\n",
    "# Check the shape\n",
    "print(f\"x_train shape: {X_train.shape}\")\n",
    "print(f\"x_val shape: {X_val.shape}\")\n",
    "\n"
   ]
  },
  {
   "cell_type": "code",
   "execution_count": null,
   "id": "584ae3b9-e1f0-472c-9075-32669f85b74a",
   "metadata": {},
   "outputs": [],
   "source": []
  },
  {
   "cell_type": "code",
   "execution_count": 26,
   "id": "971c1be9-ef6a-4f63-a605-341fb1bbffb3",
   "metadata": {},
   "outputs": [],
   "source": [
    "## Data Augmentation visualization"
   ]
  },
  {
   "cell_type": "code",
   "execution_count": 28,
   "id": "80708789-e272-495b-af24-ffc82441978a",
   "metadata": {},
   "outputs": [
    {
     "data": {
      "image/png": "[encoded data removed]",
      "text/plain": [
       "<Figure size 1200x600 with 6 Axes>"
      ]
     },
     "metadata": {},
     "output_type": "display_data"
    }
   ],
   "source": [
    "# Data Augmentation\n",
    "datagen = ImageDataGenerator(\n",
    "    rotation_range=10,\n",
    "    width_shift_range=0.1,\n",
    "    height_shift_range=0.1,\n",
    "    zoom_range=0.1\n",
    ")\n",
    "# Select a sample image from the training data\n",
    "sample_image = X_train[0]  # Assuming X_train is normalized and has shape (num_samples, 28, 28, 1)\n",
    "\n",
    "\n",
    "# Generate augmented images using `datagen`\n",
    "augmented_images = datagen.flow(sample_image, batch_size=1)\n",
    "\n",
    "# Plot the original and a few augmented images\n",
    "plt.figure(figsize=(12, 6))\n",
    "\n",
    "# Original Image\n",
    "plt.subplot(1, 6, 1)\n",
    "plt.imshow(sample_image[0, :, :, 0], cmap='gray')\n",
    "plt.title(\"Original Image\")\n",
    "plt.axis('off')\n",
    "\n",
    "# Augmented Images\n",
    "for i in range(2, 7):  # Display 5 augmented images\n",
    "    augmented_image = next(augmented_images)[0]\n",
    "    plt.subplot(1, 6, i)\n",
    "    plt.imshow(augmented_image[:, :, 0], cmap='gray')\n",
    "    plt.title(f\"Augmented {i-1}\")\n",
    "    plt.axis('off')\n",
    "\n",
    "plt.tight_layout()\n",
    "plt.show()"
   ]
  },
  {
   "cell_type": "code",
   "execution_count": 29,
   "id": "687b6beb-89fa-40d9-a21c-c1836de82322",
   "metadata": {},
   "outputs": [
    {
     "data": {
      "image/png": "[encoded data removed]",
      "text/plain": [
       "<Figure size 1200x600 with 4 Axes>"
      ]
     },
     "metadata": {},
     "output_type": "display_data"
    }
   ],
   "source": [
    "# Assuming X_train is of shape (num_samples, 28, 28, 1) and y_train is of shape (num_samples,)\n",
    "# Group images by class\n",
    "num_classes = 4  # Assuming 4 classes: 0, 1, 2, 3\n",
    "augmented_averages = []\n",
    "\n",
    "# Compute the average augmented image for each class\n",
    "for class_label in range(num_classes):\n",
    "    # Get images of the current class\n",
    "    class_images = X_train[y_train == class_label]\n",
    "    \n",
    "    # Initialize an array to accumulate augmented images\n",
    "    accumulated_image = np.zeros((28, 28, 1))\n",
    "    num_augmentations = 10  # Number of augmentations per image\n",
    "\n",
    "    for image in class_images:\n",
    "        image = image.reshape(1, 28, 28, 1)  # Reshape for the data generator\n",
    "        \n",
    "        # Apply augmentation multiple times and accumulate\n",
    "        for _ in range(num_augmentations):\n",
    "            augmented_image = next(datagen.flow(image, batch_size=1))[0]\n",
    "            accumulated_image += augmented_image\n",
    "    \n",
    "    # Compute the average augmented image\n",
    "    avg_image = accumulated_image / (len(class_images) * num_augmentations)\n",
    "    augmented_averages.append(avg_image)\n",
    "\n",
    "# Visualize the average augmented images for each class\n",
    "plt.figure(figsize=(12, 6))\n",
    "for class_label in range(num_classes):\n",
    "    plt.subplot(1, num_classes, class_label + 1)\n",
    "    plt.imshow(augmented_averages[class_label].squeeze(), cmap='gray')\n",
    "    plt.title(f\"Class {class_label}\")\n",
    "    plt.axis('off')\n",
    "\n",
    "plt.tight_layout()\n",
    "plt.show()"
   ]
  },
  {
   "cell_type": "code",
   "execution_count": 35,
   "id": "181b32bd-afcf-4c40-8162-9c7c4a6c0567",
   "metadata": {},
   "outputs": [
    {
     "name": "stdout",
     "output_type": "stream",
     "text": [
      "Epoch 1/20\n",
      "388/388 [==============================] - 11s 28ms/step - loss: 1.9477 - accuracy: 0.2782 - val_loss: 1.8655 - val_accuracy: 0.1283\n",
      "Epoch 2/20\n",
      "388/388 [==============================] - 10s 26ms/step - loss: 1.6098 - accuracy: 0.4068 - val_loss: 1.5468 - val_accuracy: 0.1732\n",
      "Epoch 3/20\n",
      "388/388 [==============================] - 10s 26ms/step - loss: 1.4712 - accuracy: 0.4632 - val_loss: 1.6365 - val_accuracy: 0.2132\n",
      "Epoch 4/20\n",
      "388/388 [==============================] - 10s 26ms/step - loss: 1.4010 - accuracy: 0.4917 - val_loss: 1.5987 - val_accuracy: 0.2254\n",
      "Epoch 5/20\n",
      "388/388 [==============================] - 11s 28ms/step - loss: 1.3475 - accuracy: 0.5108 - val_loss: 1.3037 - val_accuracy: 0.3003\n",
      "Epoch 6/20\n",
      "388/388 [==============================] - 11s 27ms/step - loss: 1.3238 - accuracy: 0.5231 - val_loss: 1.5060 - val_accuracy: 0.2623\n",
      "Epoch 7/20\n",
      "388/388 [==============================] - 11s 28ms/step - loss: 1.2946 - accuracy: 0.5313 - val_loss: 1.5028 - val_accuracy: 0.3392\n",
      "Epoch 8/20\n",
      "388/388 [==============================] - 11s 29ms/step - loss: 1.2811 - accuracy: 0.5361 - val_loss: 1.3527 - val_accuracy: 0.3964\n",
      "610/610 [==============================] - 2s 3ms/step\n",
      "              precision    recall  f1-score   support\n",
      "\n",
      "     Class 0       0.99      0.32      0.48      6637\n",
      "     Class 1       0.40      0.80      0.54      2065\n",
      "     Class 2       0.13      0.87      0.22      1547\n",
      "     Class 3       0.96      0.28      0.44      9247\n",
      "\n",
      "    accuracy                           0.40     19496\n",
      "   macro avg       0.62      0.57      0.42     19496\n",
      "weighted avg       0.85      0.40      0.45     19496\n",
      "\n",
      "Confusion Matrix:\n",
      " [[2114 1299 3211   13]\n",
      " [  10 1659  363   33]\n",
      " [   1  136 1353   57]\n",
      " [   8 1030 5607 2602]]\n"
     ]
    }
   ],
   "source": [
    "# Data Augmentation\n",
    "datagen = ImageDataGenerator(\n",
    "    rotation_range=10,\n",
    "    width_shift_range=0.1,\n",
    "    height_shift_range=0.1,\n",
    "    zoom_range=0.1\n",
    ")\n",
    "datagen.fit(X_train)\n",
    "\n",
    "# Build CNN model\n",
    "model = Sequential([\n",
    "    Conv2D(32, (3, 3), activation='relu', input_shape=(28, 28, 1)),\n",
    "    MaxPooling2D((2, 2)),\n",
    "    Dropout(0.25),\n",
    "    Conv2D(64, (3, 3), activation='relu'),\n",
    "    MaxPooling2D((2, 2)),\n",
    "    Dropout(0.25),\n",
    "    Flatten(),\n",
    "    Dense(128, activation='relu'),\n",
    "    Dropout(0.5),\n",
    "    Dense(4, activation='softmax')  # 4 classes\n",
    "])\n",
    "\n",
    "# Compile the model\n",
    "model.compile(optimizer='adam', loss='sparse_categorical_crossentropy', metrics=['accuracy'])\n",
    "\n",
    "# Train the model with class weights\n",
    "history = model.fit(\n",
    "    datagen.flow(X_train, y_train, batch_size=64),\n",
    "    validation_data=(X_val, y_val),\n",
    "    epochs=20,\n",
    "    class_weight=class_weights,\n",
    "    callbacks=[tf.keras.callbacks.EarlyStopping(monitor='val_loss', patience=3)]\n",
    ")\n",
    "\n",
    "# Evaluate the model on the validation set\n",
    "y_pred = np.argmax(model.predict(X_val), axis=1)\n",
    "print(classification_report(y_val, y_pred, target_names=['Class 0', 'Class 1', 'Class 2', 'Class 3']))\n",
    "print(\"Confusion Matrix:\\n\", confusion_matrix(y_val, y_pred))\n"
   ]
  },
  {
   "cell_type": "code",
   "execution_count": 45,
   "id": "f237e512-086f-4254-96c1-7f1bb26c5874",
   "metadata": {},
   "outputs": [
    {
     "data": {
      "image/png": "[encoded data removed]",
      "text/plain": [
       "<Figure size 800x600 with 1 Axes>"
      ]
     },
     "metadata": {},
     "output_type": "display_data"
    },
    {
     "data": {
      "image/png": "[encoded data removed]",
      "text/plain": [
       "<Figure size 800x600 with 1 Axes>"
      ]
     },
     "metadata": {},
     "output_type": "display_data"
    }
   ],
   "source": [
    "plot_class_distribution(y_pred)\n",
    "plot_class_distribution(y_val)"
   ]
  },
  {
   "cell_type": "markdown",
   "id": "415241f0-0bea-463a-bb56-f1c61058be6b",
   "metadata": {},
   "source": [
    "# Test Prediciton"
   ]
  },
  {
   "cell_type": "code",
   "execution_count": 37,
   "id": "a9b9c17e-747c-47e2-9d31-1eaf6bc744ec",
   "metadata": {},
   "outputs": [
    {
     "name": "stdout",
     "output_type": "stream",
     "text": [
      "X_test shape: (19496, 28, 28, 1)\n"
     ]
    }
   ],
   "source": [
    "# Reshape the data to include the channel dimension\n",
    "X_test = X_test_data.reshape(-1, 28, 28, 1)\n",
    "\n",
    "\n",
    "\n",
    "# Check the shape\n",
    "\n",
    "print(f\"X_test shape: {X_val.shape}\")\n",
    "\n"
   ]
  },
  {
   "cell_type": "code",
   "execution_count": 41,
   "id": "8edf5f7e-0811-4b16-9c09-2a86b753cb29",
   "metadata": {},
   "outputs": [
    {
     "name": "stdout",
     "output_type": "stream",
     "text": [
      "32/32 [==============================] - 0s 2ms/step\n"
     ]
    },
    {
     "data": {
      "image/png": "[encoded data removed]",
      "text/plain": [
       "<Figure size 800x600 with 1 Axes>"
      ]
     },
     "metadata": {},
     "output_type": "display_data"
    }
   ],
   "source": [
    "y_test_data = np.argmax(model.predict(X_test), axis=1)\n",
    "plot_class_distribution(y_test_data)\n"
   ]
  },
  {
   "cell_type": "code",
   "execution_count": null,
   "id": "f231b061-844e-4242-9fd3-8e0e5e05ab5f",
   "metadata": {},
   "outputs": [],
   "source": []
  },
  {
   "cell_type": "code",
   "execution_count": null,
   "id": "d1efff27-e6cf-4590-b1a9-09c644bdaaca",
   "metadata": {},
   "outputs": [],
   "source": []
  },
  {
   "cell_type": "code",
   "execution_count": null,
   "id": "2bb831c2-89d1-45b6-8aae-63bc5893bb34",
   "metadata": {},
   "outputs": [],
   "source": []
  },
  {
   "cell_type": "code",
   "execution_count": null,
   "id": "af306e92-b34b-4f72-a536-05d13013d554",
   "metadata": {},
   "outputs": [],
   "source": []
  },
  {
   "cell_type": "code",
   "execution_count": null,
   "id": "dc959650-80a2-4eea-a346-96d566cc61a0",
   "metadata": {},
   "outputs": [],
   "source": []
  },
  {
   "cell_type": "code",
   "execution_count": null,
   "id": "cfd9d9b1-ab82-4b97-9ea8-5c99a78f262d",
   "metadata": {},
   "outputs": [],
   "source": []
  },
  {
   "cell_type": "code",
   "execution_count": null,
   "id": "b8fe0f54-c2b9-4335-beb3-dfba54ffaa3c",
   "metadata": {},
   "outputs": [],
   "source": []
  },
  {
   "cell_type": "code",
   "execution_count": null,
   "id": "d68e9b38-92a5-4ffb-a056-8a401716bb0c",
   "metadata": {},
   "outputs": [],
   "source": []
  },
  {
   "cell_type": "code",
   "execution_count": null,
   "id": "158d1b4f-b756-42a4-b5de-1650ddfff416",
   "metadata": {},
   "outputs": [],
   "source": []
  },
  {
   "cell_type": "code",
   "execution_count": null,
   "id": "88e22f39-ae4b-48fe-88fd-bb2e0f1900ce",
   "metadata": {},
   "outputs": [],
   "source": []
  },
  {
   "cell_type": "code",
   "execution_count": null,
   "id": "40a4202b-8dca-4461-8369-730f2d414134",
   "metadata": {},
   "outputs": [],
   "source": []
  },
  {
   "cell_type": "code",
   "execution_count": null,
   "id": "aa99ce88-9810-4e29-9738-e8d79e13a4da",
   "metadata": {},
   "outputs": [],
   "source": []
  },
  {
   "cell_type": "code",
   "execution_count": null,
   "id": "76bb09d9-b85b-4c36-be5e-35ae89744bc8",
   "metadata": {},
   "outputs": [],
   "source": []
  },
  {
   "cell_type": "code",
   "execution_count": null,
   "id": "78740a51-2126-49df-af88-5ad4b42dfdd9",
   "metadata": {},
   "outputs": [],
   "source": []
  },
  {
   "cell_type": "code",
   "execution_count": null,
   "id": "6381a9c0-4e0a-41c9-a4c3-371959529286",
   "metadata": {},
   "outputs": [],
   "source": []
  },
  {
   "cell_type": "markdown",
   "id": "75639da6-d5c5-47a0-b4f6-aba18b4ad42a",
   "metadata": {},
   "source": [
    "# Save Predictions"
   ]
  },
  {
   "cell_type": "code",
   "execution_count": 43,
   "id": "6991f6b8-28c6-4f09-84cf-8c95ee8f0626",
   "metadata": {},
   "outputs": [],
   "source": [
    "import numpy as np\n",
    "import pandas as pd\n",
    "import pickle\n",
    "\n",
    "# Create a DataFrame for the output\n",
    "\n",
    "\n",
    "def save_y_csv(y):\n",
    "\n",
    "    submission_data = pd.DataFrame({\n",
    "        \"ID\": np.arange(1, len(y) + 1),  # IDs start from 1\n",
    "        \"Class\": y\n",
    "    })\n",
    "    # Save to CSV\n",
    "    output_filename = \"submission_milestone_2.csv\"\n",
    "    submission_data.to_csv(output_filename, index=False)\n",
    "    \n",
    "    print(f\"Submission file saved as {output_filename}\")\n"
   ]
  },
  {
   "cell_type": "code",
   "execution_count": 44,
   "id": "996d9630-cc01-437a-8503-d3c5b0a1a008",
   "metadata": {},
   "outputs": [
    {
     "name": "stdout",
     "output_type": "stream",
     "text": [
      "Submission file saved as submission_milestone_2.csv\n"
     ]
    }
   ],
   "source": [
    "y = y_test_data\n",
    "save_y_csv(y)"
   ]
  },
  {
   "cell_type": "code",
   "execution_count": null,
   "id": "b5cb6a11-2037-4c8a-a275-6e4593db98ca",
   "metadata": {},
   "outputs": [],
   "source": [
    "y.shape"
   ]
  },
  {
   "cell_type": "code",
   "execution_count": null,
   "id": "2c13b95c-8edc-4e3b-ad91-39c7e2ea63f6",
   "metadata": {},
   "outputs": [],
   "source": []
  }
 ],
 "metadata": {
  "kernelspec": {
   "display_name": "Python (tf_env)",
   "language": "python",
   "name": "tf_env"
  },
  "language_info": {
   "codemirror_mode": {
    "name": "ipython",
    "version": 3
   },
   "file_extension": ".py",
   "mimetype": "text/x-python",
   "name": "python",
   "nbconvert_exporter": "python",
   "pygments_lexer": "ipython3",
   "version": "3.9.18"
  }
 },
 "nbformat": 4,
 "nbformat_minor": 5
}
